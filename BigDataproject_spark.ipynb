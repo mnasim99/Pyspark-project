{
  "nbformat": 4,
  "nbformat_minor": 0,
  "metadata": {
    "colab": {
      "provenance": []
    },
    "kernelspec": {
      "name": "python3",
      "display_name": "Python 3"
    },
    "language_info": {
      "name": "python"
    }
  },
  "cells": [
    {
      "cell_type": "markdown",
      "source": [
        "# **Installing Dependencies**"
      ],
      "metadata": {
        "id": "aZe7PRbFOBb1"
      }
    },
    {
      "cell_type": "code",
      "source": [
        "!pip install pyspark"
      ],
      "metadata": {
        "colab": {
          "base_uri": "https://localhost:8080/"
        },
        "id": "_NEnxMvDKuFQ",
        "outputId": "d9da56b5-706a-48c8-f69a-8e4629551175"
      },
      "execution_count": null,
      "outputs": [
        {
          "output_type": "stream",
          "name": "stdout",
          "text": [
            "Looking in indexes: https://pypi.org/simple, https://us-python.pkg.dev/colab-wheels/public/simple/\n",
            "Collecting pyspark\n",
            "  Downloading pyspark-3.4.0.tar.gz (310.8 MB)\n",
            "\u001b[2K     \u001b[90m━━━━━━━━━━━━━━━━━━━━━━━━━━━━━━━━━━━━━━━\u001b[0m \u001b[32m310.8/310.8 MB\u001b[0m \u001b[31m5.0 MB/s\u001b[0m eta \u001b[36m0:00:00\u001b[0m\n",
            "\u001b[?25h  Preparing metadata (setup.py) ... \u001b[?25l\u001b[?25hdone\n",
            "Requirement already satisfied: py4j==0.10.9.7 in /usr/local/lib/python3.10/dist-packages (from pyspark) (0.10.9.7)\n",
            "Building wheels for collected packages: pyspark\n",
            "  Building wheel for pyspark (setup.py) ... \u001b[?25l\u001b[?25hdone\n",
            "  Created wheel for pyspark: filename=pyspark-3.4.0-py2.py3-none-any.whl size=311317130 sha256=783839b885525d973b8aaf1023f729267706009b27c7aa9149192ca2b1a24739\n",
            "  Stored in directory: /root/.cache/pip/wheels/7b/1b/4b/3363a1d04368e7ff0d408e57ff57966fcdf00583774e761327\n",
            "Successfully built pyspark\n",
            "Installing collected packages: pyspark\n",
            "Successfully installed pyspark-3.4.0\n"
          ]
        }
      ]
    },
    {
      "cell_type": "code",
      "source": [
        "from pyspark.sql import SparkSession\n",
        "from pyspark.sql.functions import count, desc , col, max, struct\n",
        "import matplotlib.pyplot as plt\n",
        "from pyspark import SparkContext\n",
        "from pyspark.sql import SQLContext"
      ],
      "metadata": {
        "id": "enyad6prKxRL"
      },
      "execution_count": null,
      "outputs": []
    },
    {
      "cell_type": "code",
      "source": [
        "# Create spark session\n",
        "spark = SparkSession.builder.appName('bigdata_project').getOrCreate"
      ],
      "metadata": {
        "id": "b9u9qu4fLCN3"
      },
      "execution_count": null,
      "outputs": []
    },
    {
      "cell_type": "code",
      "source": [
        "# Create shortcut term\n",
        "sc = SparkContext.getOrCreate()\n",
        "\n",
        "# label SQL Context\n",
        "sqlContext = SQLContext(sc)"
      ],
      "metadata": {
        "colab": {
          "base_uri": "https://localhost:8080/"
        },
        "id": "MVLOSxh5MZi4",
        "outputId": "74387e14-6248-4723-8bc4-a26b1dd4d812"
      },
      "execution_count": null,
      "outputs": [
        {
          "output_type": "stream",
          "name": "stderr",
          "text": [
            "/usr/local/lib/python3.10/dist-packages/pyspark/sql/context.py:112: FutureWarning: Deprecated in 3.0.0. Use SparkSession.builder.getOrCreate() instead.\n",
            "  warnings.warn(\n"
          ]
        }
      ]
    },
    {
      "cell_type": "markdown",
      "source": [
        "# **Loading data files into different data frames**"
      ],
      "metadata": {
        "id": "pCZCSApMOG50"
      }
    },
    {
      "cell_type": "code",
      "source": [
        "# Load data from csv to a dataframe.\n",
        "# header=True means the first row is a header\n",
        "# sep=';' means the column are seperated using ''\n",
        "df_artists = sqlContext.read.csv('artists.dat', header=True, sep=\"\\t\")\n",
        "df_artists.show(10)"
      ],
      "metadata": {
        "colab": {
          "base_uri": "https://localhost:8080/"
        },
        "id": "9lwM4jkpKG-F",
        "outputId": "ff68b6f5-8297-4100-f993-69516043a296"
      },
      "execution_count": null,
      "outputs": [
        {
          "output_type": "stream",
          "name": "stdout",
          "text": [
            "+---+-----------------+--------------------+--------------------+\n",
            "| id|             name|                 url|          pictureURL|\n",
            "+---+-----------------+--------------------+--------------------+\n",
            "|  1|     MALICE MIZER|http://www.last.f...|http://userserve-...|\n",
            "|  2|  Diary of Dreams|http://www.last.f...|http://userserve-...|\n",
            "|  3|Carpathian Forest|http://www.last.f...|http://userserve-...|\n",
            "|  4|     Moi dix Mois|http://www.last.f...|http://userserve-...|\n",
            "|  5|      Bella Morte|http://www.last.f...|http://userserve-...|\n",
            "|  6|        Moonspell|http://www.last.f...|http://userserve-...|\n",
            "|  7|   Marilyn Manson|http://www.last.f...|http://userserve-...|\n",
            "|  8|      DIR EN GREY|http://www.last.f...|http://userserve-...|\n",
            "|  9|      Combichrist|http://www.last.f...|http://userserve-...|\n",
            "| 10|          Grendel|http://www.last.f...|http://userserve-...|\n",
            "+---+-----------------+--------------------+--------------------+\n",
            "only showing top 10 rows\n",
            "\n"
          ]
        }
      ]
    },
    {
      "cell_type": "code",
      "source": [
        "df_tags= sqlContext.read.csv('tags.dat', header=True, sep=\"\\t\")\n",
        "df_tags.show(20)"
      ],
      "metadata": {
        "colab": {
          "base_uri": "https://localhost:8080/"
        },
        "id": "8SF9yk7lNLkY",
        "outputId": "6cae4342-22f2-4e3f-b754-a6133e5c0198"
      },
      "execution_count": null,
      "outputs": [
        {
          "output_type": "stream",
          "name": "stdout",
          "text": [
            "+-----+------------------+\n",
            "|tagID|          tagValue|\n",
            "+-----+------------------+\n",
            "|    1|             metal|\n",
            "|    2| alternative metal|\n",
            "|    3|         goth rock|\n",
            "|    4|       black metal|\n",
            "|    5|       death metal|\n",
            "|    6|  industrial metal|\n",
            "|    7|      gothic metal|\n",
            "|    8|        terror ebm|\n",
            "|    9|electro-industrial|\n",
            "|   10|         harsh ebm|\n",
            "|   11|  post black metal|\n",
            "|   12|         aggrotech|\n",
            "|   13|          chillout|\n",
            "|   14|           ambient|\n",
            "|   15|         downtempo|\n",
            "|   16|          new wave|\n",
            "|   17|         synth pop|\n",
            "|   18|        electronic|\n",
            "|   19|              80's|\n",
            "|   20|            lounge|\n",
            "+-----+------------------+\n",
            "only showing top 20 rows\n",
            "\n"
          ]
        }
      ]
    },
    {
      "cell_type": "code",
      "source": [
        "df_user_artists= sqlContext.read.csv('user_artists.dat', header=True, sep=\"\\t\")\n",
        "df_user_artists.show(10)"
      ],
      "metadata": {
        "colab": {
          "base_uri": "https://localhost:8080/"
        },
        "id": "G-AwYonTNRlP",
        "outputId": "590ed872-2481-4761-b433-91f8c903d096"
      },
      "execution_count": null,
      "outputs": [
        {
          "output_type": "stream",
          "name": "stdout",
          "text": [
            "+------+--------+------+\n",
            "|userID|artistID|weight|\n",
            "+------+--------+------+\n",
            "|     2|      51| 13883|\n",
            "|     2|      52| 11690|\n",
            "|     2|      53| 11351|\n",
            "|     2|      54| 10300|\n",
            "|     2|      55|  8983|\n",
            "|     2|      56|  6152|\n",
            "|     2|      57|  5955|\n",
            "|     2|      58|  4616|\n",
            "|     2|      59|  4337|\n",
            "|     2|      60|  4147|\n",
            "+------+--------+------+\n",
            "only showing top 10 rows\n",
            "\n"
          ]
        }
      ]
    },
    {
      "cell_type": "code",
      "source": [
        "df_user_friends= sqlContext.read.csv('user_friends.dat', header=True, sep=\"\\t\")\n",
        "df_user_friends.show(10)"
      ],
      "metadata": {
        "colab": {
          "base_uri": "https://localhost:8080/"
        },
        "id": "kbkLZ1liNYo_",
        "outputId": "dcaa7e31-ef3c-4bed-9913-240227615026"
      },
      "execution_count": null,
      "outputs": [
        {
          "output_type": "stream",
          "name": "stdout",
          "text": [
            "+------+--------+\n",
            "|userID|friendID|\n",
            "+------+--------+\n",
            "|     2|     275|\n",
            "|     2|     428|\n",
            "|     2|     515|\n",
            "|     2|     761|\n",
            "|     2|     831|\n",
            "|     2|     909|\n",
            "|     2|    1209|\n",
            "|     2|    1210|\n",
            "|     2|    1230|\n",
            "|     2|    1327|\n",
            "+------+--------+\n",
            "only showing top 10 rows\n",
            "\n"
          ]
        }
      ]
    },
    {
      "cell_type": "code",
      "source": [
        "df_user_taggedartists= sqlContext.read.csv('user_taggedartists.dat', header=True, sep=\"\\t\")\n",
        "df_user_taggedartists.show(10)"
      ],
      "metadata": {
        "colab": {
          "base_uri": "https://localhost:8080/"
        },
        "id": "hFTdVNrsNp5g",
        "outputId": "d26b7f3f-b716-4e7e-f891-bb8e0ce6e2d6"
      },
      "execution_count": null,
      "outputs": [
        {
          "output_type": "stream",
          "name": "stdout",
          "text": [
            "+------+--------+-----+---+-----+----+\n",
            "|userID|artistID|tagID|day|month|year|\n",
            "+------+--------+-----+---+-----+----+\n",
            "|     2|      52|   13|  1|    4|2009|\n",
            "|     2|      52|   15|  1|    4|2009|\n",
            "|     2|      52|   18|  1|    4|2009|\n",
            "|     2|      52|   21|  1|    4|2009|\n",
            "|     2|      52|   41|  1|    4|2009|\n",
            "|     2|      63|   13|  1|    4|2009|\n",
            "|     2|      63|   14|  1|    4|2009|\n",
            "|     2|      63|   23|  1|    4|2009|\n",
            "|     2|      63|   40|  1|    4|2009|\n",
            "|     2|      73|   13|  1|    4|2009|\n",
            "+------+--------+-----+---+-----+----+\n",
            "only showing top 10 rows\n",
            "\n"
          ]
        }
      ]
    },
    {
      "cell_type": "code",
      "source": [
        "df_user_taggedartiststime= sqlContext.read.csv('user_taggedartists-timestamps.dat', header=True, sep=\"\\t\")\n",
        "df_user_taggedartiststime.show(10)"
      ],
      "metadata": {
        "colab": {
          "base_uri": "https://localhost:8080/"
        },
        "id": "915GvL8DN7S3",
        "outputId": "5919285b-602c-4960-f8bc-d152ae5df042"
      },
      "execution_count": null,
      "outputs": [
        {
          "output_type": "stream",
          "name": "stdout",
          "text": [
            "+------+--------+-----+-------------+\n",
            "|userID|artistID|tagID|    timestamp|\n",
            "+------+--------+-----+-------------+\n",
            "|     2|      52|   13|1238536800000|\n",
            "|     2|      52|   15|1238536800000|\n",
            "|     2|      52|   18|1238536800000|\n",
            "|     2|      52|   21|1238536800000|\n",
            "|     2|      52|   41|1238536800000|\n",
            "|     2|      63|   13|1238536800000|\n",
            "|     2|      63|   14|1238536800000|\n",
            "|     2|      63|   23|1238536800000|\n",
            "|     2|      63|   40|1238536800000|\n",
            "|     2|      73|   13|1238536800000|\n",
            "+------+--------+-----+-------------+\n",
            "only showing top 10 rows\n",
            "\n"
          ]
        }
      ]
    },
    {
      "cell_type": "markdown",
      "source": [
        "# **1. Return artists in the top ten of received tags in the last 5 years**"
      ],
      "metadata": {
        "id": "rbzbEkbcUdYe"
      }
    },
    {
      "cell_type": "code",
      "source": [
        "df_user_taggedartists.show()"
      ],
      "metadata": {
        "colab": {
          "base_uri": "https://localhost:8080/"
        },
        "id": "KzIhGUTqy_Y5",
        "outputId": "0a8c982c-6b6f-4177-ff85-c67c697f0874"
      },
      "execution_count": null,
      "outputs": [
        {
          "output_type": "stream",
          "name": "stdout",
          "text": [
            "+------+--------+-----+---+-----+----+\n",
            "|userID|artistID|tagID|day|month|year|\n",
            "+------+--------+-----+---+-----+----+\n",
            "|     2|      52|   13|  1|    4|2009|\n",
            "|     2|      52|   15|  1|    4|2009|\n",
            "|     2|      52|   18|  1|    4|2009|\n",
            "|     2|      52|   21|  1|    4|2009|\n",
            "|     2|      52|   41|  1|    4|2009|\n",
            "|     2|      63|   13|  1|    4|2009|\n",
            "|     2|      63|   14|  1|    4|2009|\n",
            "|     2|      63|   23|  1|    4|2009|\n",
            "|     2|      63|   40|  1|    4|2009|\n",
            "|     2|      73|   13|  1|    4|2009|\n",
            "|     2|      73|   14|  1|    4|2009|\n",
            "|     2|      73|   15|  1|    4|2009|\n",
            "|     2|      73|   18|  1|    4|2009|\n",
            "|     2|      73|   20|  1|    4|2009|\n",
            "|     2|      73|   21|  1|    4|2009|\n",
            "|     2|      73|   22|  1|    4|2009|\n",
            "|     2|      73|   26|  1|    4|2009|\n",
            "|     2|      94|   13|  1|    4|2009|\n",
            "|     2|      94|   15|  1|    4|2009|\n",
            "|     2|      94|   20|  1|    4|2009|\n",
            "+------+--------+-----+---+-----+----+\n",
            "only showing top 20 rows\n",
            "\n"
          ]
        }
      ]
    },
    {
      "cell_type": "code",
      "source": [
        "#Checking what are the last 5 years\n",
        "years=df_user_taggedartists.select(\"year\").distinct().sort(\"year\")"
      ],
      "metadata": {
        "id": "iT3HEp3OUoKd"
      },
      "execution_count": null,
      "outputs": []
    },
    {
      "cell_type": "code",
      "source": [
        "years.show()"
      ],
      "metadata": {
        "colab": {
          "base_uri": "https://localhost:8080/"
        },
        "id": "bUrzVRlfX68N",
        "outputId": "0a83b3ed-b24d-4fec-cc20-b50a653f21e1"
      },
      "execution_count": null,
      "outputs": [
        {
          "output_type": "stream",
          "name": "stdout",
          "text": [
            "+----+\n",
            "|year|\n",
            "+----+\n",
            "|1956|\n",
            "|1957|\n",
            "|1979|\n",
            "|2005|\n",
            "|2006|\n",
            "|2007|\n",
            "|2008|\n",
            "|2009|\n",
            "|2010|\n",
            "|2011|\n",
            "+----+\n",
            "\n"
          ]
        }
      ]
    },
    {
      "cell_type": "code",
      "source": [
        "query=df_user_taggedartists.filter((df_user_taggedartists.year == \"2007\") | (df_user_taggedartists.year == \"2008\") | (df_user_taggedartists.year == \"2009\") | (df_user_taggedartists.year == \"2010\") | (df_user_taggedartists.year == \"2011\") )"
      ],
      "metadata": {
        "id": "y_WWzYRnZLZa"
      },
      "execution_count": null,
      "outputs": []
    },
    {
      "cell_type": "code",
      "source": [
        "query.show()"
      ],
      "metadata": {
        "colab": {
          "base_uri": "https://localhost:8080/"
        },
        "id": "woDY91S8bJDT",
        "outputId": "309d27c2-4565-48c8-f434-6eebaaf58ae9"
      },
      "execution_count": null,
      "outputs": [
        {
          "output_type": "stream",
          "name": "stdout",
          "text": [
            "+------+--------+-----+---+-----+----+\n",
            "|userID|artistID|tagID|day|month|year|\n",
            "+------+--------+-----+---+-----+----+\n",
            "|     2|      52|   13|  1|    4|2009|\n",
            "|     2|      52|   15|  1|    4|2009|\n",
            "|     2|      52|   18|  1|    4|2009|\n",
            "|     2|      52|   21|  1|    4|2009|\n",
            "|     2|      52|   41|  1|    4|2009|\n",
            "|     2|      63|   13|  1|    4|2009|\n",
            "|     2|      63|   14|  1|    4|2009|\n",
            "|     2|      63|   23|  1|    4|2009|\n",
            "|     2|      63|   40|  1|    4|2009|\n",
            "|     2|      73|   13|  1|    4|2009|\n",
            "|     2|      73|   14|  1|    4|2009|\n",
            "|     2|      73|   15|  1|    4|2009|\n",
            "|     2|      73|   18|  1|    4|2009|\n",
            "|     2|      73|   20|  1|    4|2009|\n",
            "|     2|      73|   21|  1|    4|2009|\n",
            "|     2|      73|   22|  1|    4|2009|\n",
            "|     2|      73|   26|  1|    4|2009|\n",
            "|     2|      94|   13|  1|    4|2009|\n",
            "|     2|      94|   15|  1|    4|2009|\n",
            "|     2|      94|   20|  1|    4|2009|\n",
            "+------+--------+-----+---+-----+----+\n",
            "only showing top 20 rows\n",
            "\n"
          ]
        }
      ]
    },
    {
      "cell_type": "code",
      "source": [
        "# Group the data by artistID and count the number of tags received\n",
        "query1 = query.groupBy(\"artistID\").agg(count(\"tagID\").alias(\"tag_count\"))\n",
        "\n"
      ],
      "metadata": {
        "id": "pEY72rovzdOO"
      },
      "execution_count": null,
      "outputs": []
    },
    {
      "cell_type": "code",
      "source": [
        "query1.show()"
      ],
      "metadata": {
        "colab": {
          "base_uri": "https://localhost:8080/"
        },
        "id": "7sizqJrsz6NP",
        "outputId": "39891b7d-03ff-4664-a942-b3e7dbb49146"
      },
      "execution_count": null,
      "outputs": [
        {
          "output_type": "stream",
          "name": "stdout",
          "text": [
            "+--------+---------+\n",
            "|artistID|tag_count|\n",
            "+--------+---------+\n",
            "|     467|       52|\n",
            "|     691|      114|\n",
            "|    7711|        5|\n",
            "|     675|        3|\n",
            "|    1090|      233|\n",
            "|    1512|       68|\n",
            "|    2136|       53|\n",
            "|    5925|       45|\n",
            "|    3606|        6|\n",
            "|   15269|       15|\n",
            "|    6194|        9|\n",
            "|   11332|        5|\n",
            "|    1572|       11|\n",
            "|   11722|       13|\n",
            "|     296|       93|\n",
            "|    6240|        8|\n",
            "|    3959|        2|\n",
            "|    9030|        4|\n",
            "|     829|        9|\n",
            "|    1159|       26|\n",
            "+--------+---------+\n",
            "only showing top 20 rows\n",
            "\n"
          ]
        }
      ]
    },
    {
      "cell_type": "code",
      "source": [
        "# Rank the artists based on the tag count in descending order\n",
        "query1 = query1.orderBy(desc(\"tag_count\"))\n",
        "\n",
        "# Get the top ten artists by selecting the first ten rows\n",
        "top_ten_df = query1.limit(10)\n",
        "\n",
        "# Show the results\n",
        "top_ten_df.show()\n"
      ],
      "metadata": {
        "colab": {
          "base_uri": "https://localhost:8080/"
        },
        "id": "fZRTgRpez4yZ",
        "outputId": "715980d2-f5ff-496b-c1d4-140bc2b17790"
      },
      "execution_count": null,
      "outputs": [
        {
          "output_type": "stream",
          "name": "stdout",
          "text": [
            "+--------+---------+\n",
            "|artistID|tag_count|\n",
            "+--------+---------+\n",
            "|     289|      886|\n",
            "|      89|      767|\n",
            "|     292|      744|\n",
            "|      67|      681|\n",
            "|      72|      662|\n",
            "|     190|      568|\n",
            "|     227|      545|\n",
            "|     154|      544|\n",
            "|     288|      522|\n",
            "|     498|      463|\n",
            "+--------+---------+\n",
            "\n"
          ]
        }
      ]
    },
    {
      "cell_type": "markdown",
      "source": [
        "# **2. Returning, for each artist, the users listening to her, sorted by the listening count**"
      ],
      "metadata": {
        "id": "WkXfafizcA8i"
      }
    },
    {
      "cell_type": "code",
      "source": [
        "df_user_artists.show()"
      ],
      "metadata": {
        "colab": {
          "base_uri": "https://localhost:8080/"
        },
        "id": "g--Jznqri7I9",
        "outputId": "885d1f3d-4733-42b9-be1b-2b9ed3bb9656"
      },
      "execution_count": null,
      "outputs": [
        {
          "output_type": "stream",
          "name": "stdout",
          "text": [
            "+------+--------+------+\n",
            "|userID|artistID|weight|\n",
            "+------+--------+------+\n",
            "|     2|      51| 13883|\n",
            "|     2|      52| 11690|\n",
            "|     2|      53| 11351|\n",
            "|     2|      54| 10300|\n",
            "|     2|      55|  8983|\n",
            "|     2|      56|  6152|\n",
            "|     2|      57|  5955|\n",
            "|     2|      58|  4616|\n",
            "|     2|      59|  4337|\n",
            "|     2|      60|  4147|\n",
            "|     2|      61|  3923|\n",
            "|     2|      62|  3782|\n",
            "|     2|      63|  3735|\n",
            "|     2|      64|  3644|\n",
            "|     2|      65|  3579|\n",
            "|     2|      66|  3312|\n",
            "|     2|      67|  3301|\n",
            "|     2|      68|  2927|\n",
            "|     2|      69|  2720|\n",
            "|     2|      70|  2686|\n",
            "+------+--------+------+\n",
            "only showing top 20 rows\n",
            "\n"
          ]
        }
      ]
    },
    {
      "cell_type": "code",
      "source": [
        "df_user_artists.printSchema()"
      ],
      "metadata": {
        "colab": {
          "base_uri": "https://localhost:8080/"
        },
        "id": "sjCcgAp-vADr",
        "outputId": "86bdda10-d038-4b9f-f870-97e83c4596b1"
      },
      "execution_count": null,
      "outputs": [
        {
          "output_type": "stream",
          "name": "stdout",
          "text": [
            "root\n",
            " |-- userID: string (nullable = true)\n",
            " |-- artistID: string (nullable = true)\n",
            " |-- weight: string (nullable = true)\n",
            "\n"
          ]
        }
      ]
    },
    {
      "cell_type": "code",
      "source": [
        "from pyspark.sql.functions import sum, expr\n",
        "\n",
        "df = df_user_artists.withColumn(\"weight\", expr(\"cast(weight as int)\"))"
      ],
      "metadata": {
        "id": "qtdRr1ZvwpUm"
      },
      "execution_count": null,
      "outputs": []
    },
    {
      "cell_type": "code",
      "source": [
        "# Group the data by artistID and userID, and compute the sum of weight for each group\n",
        "group = df.groupBy(\"artistID\", \"userID\").agg(sum(\"weight\").alias(\"total_listening_count\"))\n",
        "\n",
        "# Sort the data in descending order by total listening count\n",
        "sort = group.orderBy(\"total_listening_count\", ascending=False)\n",
        "\n",
        "# Show the results\n",
        "sort.show()"
      ],
      "metadata": {
        "colab": {
          "base_uri": "https://localhost:8080/"
        },
        "id": "0NUcU7bEwPPa",
        "outputId": "7672584e-8609-49ce-bb14-6926167c19f6"
      },
      "execution_count": null,
      "outputs": [
        {
          "output_type": "stream",
          "name": "stdout",
          "text": [
            "+--------+------+---------------------+\n",
            "|artistID|userID|total_listening_count|\n",
            "+--------+------+---------------------+\n",
            "|      72|  1642|               352698|\n",
            "|     792|  2071|               324663|\n",
            "|     511|  1094|               320725|\n",
            "|     203|  1905|               257978|\n",
            "|     498|  1664|               227829|\n",
            "|     378|  1146|               203165|\n",
            "|     292|   514|               176133|\n",
            "|     701|  1983|               172496|\n",
            "|     701|   757|               169596|\n",
            "|     679|  1086|               165902|\n",
            "|     503|   903|               146411|\n",
            "|     687|   946|               144559|\n",
            "|     289|   542|               131733|\n",
            "|     378|   938|               129595|\n",
            "|     289|  2031|               128654|\n",
            "|     486|  1368|               125471|\n",
            "|     163|   292|               123065|\n",
            "|      89|  1135|               114672|\n",
            "|     187|   442|               112009|\n",
            "|     198|   459|               110185|\n",
            "+--------+------+---------------------+\n",
            "only showing top 20 rows\n",
            "\n"
          ]
        }
      ]
    },
    {
      "cell_type": "markdown",
      "source": [
        "### **Displaying names of artists as well.**"
      ],
      "metadata": {
        "id": "6wexShEwyeid"
      }
    },
    {
      "cell_type": "code",
      "source": [
        "# Join the tables based on artistID\n",
        "join = df.join(df_artists, df.artistID == df_artists.id)\n",
        "\n",
        "# Group the data by artistID, name, and userID, and compute the sum of weight for each group\n",
        "group = join.groupBy(\"artistID\", \"name\", \"userID\").agg(sum(\"weight\").alias(\"total_listening_count\"))\n",
        "\n",
        "# Sort the data in descending order by total listening count\n",
        "sort= group.orderBy(\"total_listening_count\", ascending=False)\n",
        "\n",
        "# Show the results\n",
        "sort.show()"
      ],
      "metadata": {
        "colab": {
          "base_uri": "https://localhost:8080/"
        },
        "id": "E4VhUxK6ykNZ",
        "outputId": "13ad266f-f280-45b9-db3f-824c017cde03"
      },
      "execution_count": null,
      "outputs": [
        {
          "output_type": "stream",
          "name": "stdout",
          "text": [
            "+--------+------------------+------+---------------------+\n",
            "|artistID|              name|userID|total_listening_count|\n",
            "+--------+------------------+------+---------------------+\n",
            "|      72|      Depeche Mode|  1642|               352698|\n",
            "|     792|            Thalía|  2071|               324663|\n",
            "|     511|                U2|  1094|               320725|\n",
            "|     203|              Blur|  1905|               257978|\n",
            "|     498|          Paramore|  1664|               227829|\n",
            "|     378|       Evanescence|  1146|               203165|\n",
            "|     292|Christina Aguilera|   514|               176133|\n",
            "|     701|           Shakira|  1983|               172496|\n",
            "|     701|           Shakira|   757|               169596|\n",
            "|     679|         Glee Cast|  1086|               165902|\n",
            "|     503|         In Flames|   903|               146411|\n",
            "|     687|      All Time Low|   946|               144559|\n",
            "|     289|    Britney Spears|   542|               131733|\n",
            "|     378|       Evanescence|   938|               129595|\n",
            "|     289|    Britney Spears|  2031|               128654|\n",
            "|     486|30 Seconds to Mars|  1368|               125471|\n",
            "|     163|        Pink Floyd|   292|               123065|\n",
            "|      89|         Lady Gaga|  1135|               114672|\n",
            "|     187|              a-ha|   442|               112009|\n",
            "|     198|  System of a Down|   459|               110185|\n",
            "+--------+------------------+------+---------------------+\n",
            "only showing top 20 rows\n",
            "\n"
          ]
        }
      ]
    },
    {
      "cell_type": "code",
      "source": [
        "sort.count()"
      ],
      "metadata": {
        "colab": {
          "base_uri": "https://localhost:8080/"
        },
        "id": "HEXGBueN7ZmI",
        "outputId": "855d5ce5-2845-47f1-ffcd-a5b48989224c"
      },
      "execution_count": null,
      "outputs": [
        {
          "output_type": "execute_result",
          "data": {
            "text/plain": [
              "92834"
            ]
          },
          "metadata": {},
          "execution_count": 203
        }
      ]
    },
    {
      "cell_type": "markdown",
      "source": [
        "# **3. All users, sorted by the number of their friends.**"
      ],
      "metadata": {
        "id": "yoL3ciRScRdV"
      }
    },
    {
      "cell_type": "code",
      "source": [
        "df_user_friends.show()"
      ],
      "metadata": {
        "colab": {
          "base_uri": "https://localhost:8080/"
        },
        "id": "QYyOPtMXi-BN",
        "outputId": "b71e870e-f535-491d-8994-ee981c83280d"
      },
      "execution_count": null,
      "outputs": [
        {
          "output_type": "stream",
          "name": "stdout",
          "text": [
            "+------+--------+\n",
            "|userID|friendID|\n",
            "+------+--------+\n",
            "|     2|     275|\n",
            "|     2|     428|\n",
            "|     2|     515|\n",
            "|     2|     761|\n",
            "|     2|     831|\n",
            "|     2|     909|\n",
            "|     2|    1209|\n",
            "|     2|    1210|\n",
            "|     2|    1230|\n",
            "|     2|    1327|\n",
            "|     2|    1585|\n",
            "|     2|    1625|\n",
            "|     2|    1869|\n",
            "|     3|      78|\n",
            "|     3|     255|\n",
            "|     3|     460|\n",
            "|     3|     837|\n",
            "|     3|    1740|\n",
            "|     3|    1801|\n",
            "|     3|    1975|\n",
            "+------+--------+\n",
            "only showing top 20 rows\n",
            "\n"
          ]
        }
      ]
    },
    {
      "cell_type": "code",
      "source": [
        "friends=df_user_friends.groupBy('userID').count().sort(\"count\")"
      ],
      "metadata": {
        "id": "F7aiBD_KcWsm"
      },
      "execution_count": null,
      "outputs": []
    },
    {
      "cell_type": "code",
      "source": [
        "friends.show(15)"
      ],
      "metadata": {
        "colab": {
          "base_uri": "https://localhost:8080/"
        },
        "id": "URlUEXrTcxlu",
        "outputId": "1a9f91b7-ba2d-4bb6-ec28-c9f103ac9f5e"
      },
      "execution_count": null,
      "outputs": [
        {
          "output_type": "stream",
          "name": "stdout",
          "text": [
            "+------+-----+\n",
            "|userID|count|\n",
            "+------+-----+\n",
            "|    29|    1|\n",
            "|  1814|    1|\n",
            "|   356|    1|\n",
            "|  1957|    1|\n",
            "|  1692|    1|\n",
            "|   979|    1|\n",
            "|  1729|    1|\n",
            "|  2079|    1|\n",
            "|   406|    1|\n",
            "|   672|    1|\n",
            "|  1012|    1|\n",
            "|  1518|    1|\n",
            "|    34|    1|\n",
            "|   786|    1|\n",
            "|  1977|    1|\n",
            "+------+-----+\n",
            "only showing top 15 rows\n",
            "\n"
          ]
        }
      ]
    },
    {
      "cell_type": "code",
      "source": [
        "friends.count()"
      ],
      "metadata": {
        "colab": {
          "base_uri": "https://localhost:8080/"
        },
        "id": "E0GscnMY7z4G",
        "outputId": "2655b331-61a8-4125-f1f4-2e835ba1f6ab"
      },
      "execution_count": null,
      "outputs": [
        {
          "output_type": "execute_result",
          "data": {
            "text/plain": [
              "1892"
            ]
          },
          "metadata": {},
          "execution_count": 204
        }
      ]
    },
    {
      "cell_type": "markdown",
      "source": [
        "###  **Users with most friends**"
      ],
      "metadata": {
        "id": "2gDJrhuvdRGE"
      }
    },
    {
      "cell_type": "code",
      "source": [
        "friends.orderBy(\"count\",ascending=False).show()"
      ],
      "metadata": {
        "colab": {
          "base_uri": "https://localhost:8080/"
        },
        "id": "SetZBRKL5Kc-",
        "outputId": "06a3aa41-beca-478c-96cc-cc67301911ab"
      },
      "execution_count": null,
      "outputs": [
        {
          "output_type": "stream",
          "name": "stdout",
          "text": [
            "+------+-----+\n",
            "|userID|count|\n",
            "+------+-----+\n",
            "|  1543|  119|\n",
            "|  1281|  110|\n",
            "|   831|  106|\n",
            "|   179|   97|\n",
            "|  1503|   95|\n",
            "|  1023|   91|\n",
            "|   405|   90|\n",
            "|  1895|   90|\n",
            "|  1300|   89|\n",
            "|   390|   88|\n",
            "|   232|   87|\n",
            "|  1258|   86|\n",
            "|  1568|   85|\n",
            "|    46|   84|\n",
            "|   851|   84|\n",
            "|   749|   82|\n",
            "|  1247|   82|\n",
            "|    78|   81|\n",
            "|   236|   81|\n",
            "|  1478|   80|\n",
            "+------+-----+\n",
            "only showing top 20 rows\n",
            "\n"
          ]
        }
      ]
    },
    {
      "cell_type": "markdown",
      "source": [
        "### **Users with least friends**"
      ],
      "metadata": {
        "id": "2EeP_cP9dYER"
      }
    },
    {
      "cell_type": "code",
      "source": [
        "friends.orderBy(\"count\",ascending=True).show()"
      ],
      "metadata": {
        "colab": {
          "base_uri": "https://localhost:8080/"
        },
        "id": "B-o1QlS8dXJu",
        "outputId": "61ce9893-fe86-4451-87ab-dfc3ab62a423"
      },
      "execution_count": null,
      "outputs": [
        {
          "output_type": "stream",
          "name": "stdout",
          "text": [
            "+------+-----+\n",
            "|userID|count|\n",
            "+------+-----+\n",
            "|  1692|    1|\n",
            "|   556|    1|\n",
            "|  1729|    1|\n",
            "|   613|    1|\n",
            "|   406|    1|\n",
            "|   282|    1|\n",
            "|  1012|    1|\n",
            "|  2079|    1|\n",
            "|    34|    1|\n",
            "|   672|    1|\n",
            "|   652|    1|\n",
            "|  1518|    1|\n",
            "|   786|    1|\n",
            "|   979|    1|\n",
            "|   737|    1|\n",
            "|  1747|    1|\n",
            "|  1764|    1|\n",
            "|  1957|    1|\n",
            "|  1977|    1|\n",
            "|   356|    1|\n",
            "+------+-----+\n",
            "only showing top 20 rows\n",
            "\n"
          ]
        }
      ]
    },
    {
      "cell_type": "markdown",
      "source": [
        "# **4. Special Query**"
      ],
      "metadata": {
        "id": "PH_hoUaG1tG-"
      }
    },
    {
      "cell_type": "markdown",
      "source": [
        "## **Return top three most popular tags among users based on number of tag occurance**"
      ],
      "metadata": {
        "id": "qZAkhs2V1xXP"
      }
    },
    {
      "cell_type": "code",
      "source": [
        "\n",
        "# Join the tables based on tagID\n",
        "joined_df = df_user_taggedartists.join(df_tags, \"tagID\")\n",
        "\n",
        "# Group by tagValue and count the occurrences\n",
        "grouped_df = joined_df.groupBy(\"tagValue\").agg(count(\"*\").alias(\"tagOccurrences\"))\n",
        "\n",
        "# Sort the data in descending order by tagOccurrences\n",
        "sorted_df = grouped_df.orderBy(\"tagOccurrences\", ascending=False)\n",
        "\n",
        "# Take the top three rows\n",
        "top_three_df = sorted_df.limit(3)\n",
        "\n",
        "# Show the results\n",
        "top_three_df.show()"
      ],
      "metadata": {
        "colab": {
          "base_uri": "https://localhost:8080/"
        },
        "id": "mYsESL671scy",
        "outputId": "84f09c67-0480-4898-ee41-cc54616b211a"
      },
      "execution_count": null,
      "outputs": [
        {
          "output_type": "stream",
          "name": "stdout",
          "text": [
            "+-----------+--------------+\n",
            "|   tagValue|tagOccurrences|\n",
            "+-----------+--------------+\n",
            "|       rock|          7503|\n",
            "|        pop|          5418|\n",
            "|alternative|          5251|\n",
            "+-----------+--------------+\n",
            "\n"
          ]
        }
      ]
    }
  ]
}